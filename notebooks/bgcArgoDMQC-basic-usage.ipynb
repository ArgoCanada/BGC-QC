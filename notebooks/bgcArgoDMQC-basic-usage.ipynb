{
 "metadata": {
  "language_info": {
   "codemirror_mode": {
    "name": "ipython",
    "version": 3
   },
   "file_extension": ".py",
   "mimetype": "text/x-python",
   "name": "python",
   "nbconvert_exporter": "python",
   "pygments_lexer": "ipython3",
   "version": "3.8.5-final"
  },
  "orig_nbformat": 2,
  "kernelspec": {
   "name": "python3",
   "display_name": "Python 3"
  }
 },
 "nbformat": 4,
 "nbformat_minor": 2,
 "cells": [
  {
   "cell_type": "code",
   "execution_count": null,
   "metadata": {},
   "outputs": [],
   "source": [
    "%matplotlib inline\n",
    "\n",
    "from pathlib import Path\n",
    "from netCDF4 import Dataset\n",
    "\n",
    "import pandas as pd\n",
    "import matplotlib.pyplot as plt\n",
    "\n",
    "import bgcArgoDMQC as bgc"
   ]
  },
  {
   "cell_type": "code",
   "execution_count": null,
   "metadata": {},
   "outputs": [],
   "source": [
    "def plot_result(pres, temp, doxy, cd1, cd2):\n",
    "    temp[pres > 300] = np.nan\n",
    "\n",
    "    fig, axes = plt.subplots(1, 2, sharey=True)\n",
    "\n",
    "    axes[0].plot(doxy, pres, label='Uncorrected')\n",
    "    axes[0].plot(cd1, pres, label='T-constant Corr.')\n",
    "    axes[0].plot(cd2, pres, label='T-dependent Corr.')\n",
    "    axes[1].plot(temp, pres)\n",
    "    axes[1].set_ylim((250,0))\n",
    "\n",
    "    axes[0].legend(loc=4, fontsize=10)\n",
    "\n",
    "    axes[0].set_xlabel('Diss. Oxygen ($\\mathregular{\\mu}$mol kg$^{-1}$)')\n",
    "    axes[1].set_xlabel('Temperature ({}C)'.format(chr(176)))\n",
    "    axes[0].set_ylabel('Pressure (dbar)')"
   ]
  },
  {
   "source": [
    "First, you have to set up the module to tell it where to look for data. Note that Argo data stored locally should have the same path structure as the GDAC, i.e., `/Argo/[dac name]/[float WMO]/profiles/`."
   ],
   "cell_type": "markdown",
   "metadata": {}
  },
  {
   "cell_type": "code",
   "execution_count": null,
   "metadata": {},
   "outputs": [],
   "source": [
    "# define the paths\n",
    "data_path = Path.cwd() / 'ex-data'\n",
    "argo_path = data_path / 'Argo'\n",
    "ncep_path = data_path / 'NCEP'\n",
    "woa_path  = data_path / 'WOA18'\n",
    "\n",
    "# tell bgcArgoDMQC where to look\n",
    "bgc.set_dirs(\n",
    "    argo_path=argo_path,\n",
    "    ncep_path=ncep_path,\n",
    "    woa_path=woa_path\n",
    ")"
   ]
  },
  {
   "source": [
    "Then, you can load in a synthetic profile of the Argo data using `bgc.sprof(...)` - this will create an object that contains all the data from that file and various methods to calculate gain, visualize the data, or export it."
   ],
   "cell_type": "markdown",
   "metadata": {}
  },
  {
   "cell_type": "code",
   "execution_count": null,
   "metadata": {},
   "outputs": [],
   "source": [
    "# our float number\n",
    "wmo = 4902481\n",
    "# create a synthetic profile (sprof) object\n",
    "syn = bgc.sprof(wmo)\n",
    "# can also load in profiles and select cycles\n",
    "prof = bgc.profiles(4902481, cycles=list(range(10)))"
   ]
  },
  {
   "source": [
    "Let's calculate the gain for this float using in-air data:"
   ],
   "cell_type": "markdown",
   "metadata": {}
  },
  {
   "cell_type": "code",
   "execution_count": null,
   "metadata": {},
   "outputs": [],
   "source": [
    "gains = syn.calc_gains()"
   ]
  },
  {
   "source": [
    "and visualize:"
   ],
   "cell_type": "markdown",
   "metadata": {}
  },
  {
   "cell_type": "code",
   "execution_count": null,
   "metadata": {},
   "outputs": [],
   "source": [
    "g1 = syn.plot('gain', ref='NCEP')"
   ]
  },
  {
   "source": [
    "Another feature is to add and visualize independent data. First load in the independent data:"
   ],
   "cell_type": "markdown",
   "metadata": {}
  },
  {
   "cell_type": "code",
   "execution_count": null,
   "metadata": {},
   "outputs": [],
   "source": [
    "df1 = pd.read_csv(Path.cwd() / 'ex-data/my_winkler_data.csv')"
   ]
  },
  {
   "source": [
    "Then we can add the data to an existing float object:"
   ],
   "cell_type": "markdown",
   "metadata": {}
  },
  {
   "cell_type": "code",
   "execution_count": null,
   "metadata": {},
   "outputs": [],
   "source": [
    "syn = bgc.sprof(4902549)\n",
    "syn.add_independent_data(\n",
    "    PRES=df1.pressure, # data arguments, match naming to Argo variables\n",
    "    DOXY=df1.oxygen,\n",
    "    date='2020-08-17', # optional, if no date matches to first profile\n",
    "    lat=df1.lat.iloc[0], lon=df1.lon.iloc[0], # again, optional\n",
    "    label='Winkler' # label to classify the data if you have more than one source\n",
    ")"
   ]
  },
  {
   "source": [
    "You can add other datasets as well:"
   ],
   "cell_type": "markdown",
   "metadata": {}
  },
  {
   "cell_type": "code",
   "execution_count": null,
   "metadata": {},
   "outputs": [],
   "source": [
    "df2 = pd.read_csv(Path.cwd() / 'ex-data/my_CTD_data.csv')\n",
    "syn.add_independent_data(\n",
    "    PRES=df2.pressure, TEMP=df2.temperature,\n",
    "    lat=df2.lat.iloc[0]-10, lon=df2.lon.iloc[0]-10, # again, and artifically move it as example\n",
    "    date='2020-08-17',\n",
    "    label='CTD'\n",
    ")"
   ]
  },
  {
   "source": [
    "And finally plot the data: "
   ],
   "cell_type": "markdown",
   "metadata": {}
  },
  {
   "cell_type": "code",
   "execution_count": null,
   "metadata": {},
   "outputs": [],
   "source": [
    "syn.compare_independent_data()"
   ]
  },
  {
   "source": [
    "For our final example we will demonstrate doing a response time correction using some time-resolved data from Gordon et al. (2020):"
   ],
   "cell_type": "markdown",
   "metadata": {}
  },
  {
   "source": [
    "# load in the data - sprof-like file\n",
    "nc = Dataset(Path.cwd() / 'ex-data/GoMRI/f7939_Sprof.nc')\n",
    "\n",
    "ix = 2 # extract an arbitrary profile\n",
    "time = nc.variables['MTIME'][:][ix,:].compressed()\n",
    "pres = nc.variables['PRES'][:][ix,:].compressed()\n",
    "doxy = nc.variables['DOXY'][:][ix,:].compressed()\n",
    "temp = nc.variables['TEMP'][:][ix,:].compressed()\n",
    "\n",
    "# do the time response correction\n",
    "thickness = 125 # boundary layer thickness\n",
    "tau = 70 # response time in seconds\n",
    "cd1 = bgc.correct_response_time_Tconst(time, doxy, tau)\n",
    "cd2 = bgc.correct_response_time(time, doxy, temp, thickness)\n",
    "\n",
    "# hid plotting code in function above\n",
    "plot_result(pres, temp, doxy, cd1, cd2)\n"
   ],
   "cell_type": "code",
   "metadata": {},
   "execution_count": null,
   "outputs": []
  }
 ]
}