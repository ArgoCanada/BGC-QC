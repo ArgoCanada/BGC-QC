{
 "metadata": {
  "language_info": {
   "codemirror_mode": {
    "name": "ipython",
    "version": 3
   },
   "file_extension": ".py",
   "mimetype": "text/x-python",
   "name": "python",
   "nbconvert_exporter": "python",
   "pygments_lexer": "ipython3",
   "version": "3.8.5-final"
  },
  "orig_nbformat": 2,
  "kernelspec": {
   "name": "python3",
   "display_name": "Python 3"
  }
 },
 "nbformat": 4,
 "nbformat_minor": 2,
 "cells": [
  {
   "cell_type": "code",
   "execution_count": null,
   "metadata": {},
   "outputs": [],
   "source": [
    "%matplotlib inline\n",
    "\n",
    "from pathlib import Path\n",
    "import matplotlib.pyplot as plt\n",
    "\n",
    "import bgcArgoDMQC as bgc"
   ]
  },
  {
   "source": [
    "First, you have to set up the module to tell it where to look for data. Note that Argo data stored locally should have the same path structure as the GDAC, i.e., `/Argo/\\[dac name\\]/\\[float WMO\\]/profiles/`."
   ],
   "cell_type": "markdown",
   "metadata": {}
  },
  {
   "cell_type": "code",
   "execution_count": null,
   "metadata": {},
   "outputs": [],
   "source": [
    "# define the paths\n",
    "data_path = Path.cwd() / 'ex-data'\n",
    "argo_path = data_path / 'Argo'\n",
    "ncep_path = data_path / 'NCEP'\n",
    "woa_path  = data_path / 'WOA18'\n",
    "\n",
    "# tell bgcArgoDMQC where to look\n",
    "bgc.set_dirs(\n",
    "    argo_path=argo_path,\n",
    "    ncep_path=ncep_path,\n",
    "    woa_path=woa_path\n",
    ")"
   ]
  },
  {
   "source": [
    "Then, you can load in a synthetic profile of the Argo data using `bgc.sprof(...)` - this will create an object that contains all the data from that file and various methods to calculate gain, visualize the data, or export it."
   ],
   "cell_type": "markdown",
   "metadata": {}
  },
  {
   "cell_type": "code",
   "execution_count": null,
   "metadata": {},
   "outputs": [],
   "source": [
    "# our float number\n",
    "wmo = 4902481\n",
    "# create a synthetic profile (sprof) object\n",
    "syn = bgc.sprof(wmo)"
   ]
  },
  {
   "source": [
    "Let's calculate the gain for this float using in-air data:"
   ],
   "cell_type": "markdown",
   "metadata": {}
  },
  {
   "cell_type": "code",
   "execution_count": null,
   "metadata": {},
   "outputs": [],
   "source": [
    "gains = syn.calc_gains()"
   ]
  },
  {
   "source": [
    "and visualize:"
   ],
   "cell_type": "markdown",
   "metadata": {}
  },
  {
   "cell_type": "code",
   "execution_count": null,
   "metadata": {},
   "outputs": [],
   "source": [
    "g1 = syn.plot('gain', ref='NCEP')"
   ]
  }
 ]
}