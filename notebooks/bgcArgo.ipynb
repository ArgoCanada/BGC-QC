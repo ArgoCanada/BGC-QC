{
 "cells": [
  {
   "cell_type": "markdown",
   "metadata": {},
   "source": [
    "# BGC-Argo Quality Control"
   ]
  },
  {
   "cell_type": "markdown",
   "metadata": {},
   "source": [
    "This is a jupyter notebook to demonstrate the fucntionality of the `bgcArgo` python module, which is based on the SOCCOM set of matlab code for performing the same task. In order to perform these tasks, WOA, NCEP, and Argo data must be available. These must be downloaded to your local machine (which can be done using `bgcArgo`, shown below). Plan to add functionality to get the necessary data remotely. "
   ]
  },
  {
   "cell_type": "code",
   "execution_count": null,
   "metadata": {},
   "outputs": [],
   "source": [
    "%matplotlib inline\n",
    "from ipywidgets import interactive, fixed\n",
    "\n",
    "from pathlib import Path\n",
    "from bgcArgo import sprof"
   ]
  },
  {
   "cell_type": "markdown",
   "metadata": {},
   "source": [
    "Set up appropriate local directories:"
   ]
  },
  {
   "cell_type": "code",
   "execution_count": null,
   "metadata": {},
   "outputs": [],
   "source": [
    "datadir   = Path('/Users/gordonc/Documents/data')\n",
    "woa_path  = datadir / 'WOA18'\n",
    "ncep_path = datadir / 'NCEP'\n",
    "argo_path = datadir / 'Argo'"
   ]
  },
  {
   "cell_type": "markdown",
   "metadata": {},
   "source": [
    "You can tell `bgcArgo` where your local directories are set up, or specify the path to each function:"
   ]
  },
  {
   "cell_type": "code",
   "execution_count": null,
   "metadata": {},
   "outputs": [],
   "source": [
    "sprof.set_dirs(woa_path=woa_path, ncep_path=ncep_path, argo_path=argo_path)"
   ]
  },
  {
   "cell_type": "markdown",
   "metadata": {},
   "source": [
    "If the data is not already saved to your local machine, you can use the module to download the reference data as well as Argo data:\n",
    "```python\n",
    "import bgcArgo\n",
    "\n",
    "# get the reference data\n",
    "bgcArgo.io.get_woa18('O2sat', local_path=woa_path)\n",
    "bgcArgo.io.get_ncep('pres', local_path=ncep_path)\n",
    "\n",
    "# get argo data for float 4902481, could provide more float numbers\n",
    "dacdir = '/ifremer/argo/dac/meds'\n",
    "wmo_numbers = [4902481]\n",
    "bgcArgo.io.get_argo(dac_path, wmo_numbers, local_path=argo_path)\n",
    "```\n",
    "With reference data downloaded, float data is easily loaded into an object that will have fields for each float variable:"
   ]
  },
  {
   "cell_type": "code",
   "execution_count": null,
   "metadata": {},
   "outputs": [],
   "source": [
    "flt = sprof(4902481)"
   ]
  },
  {
   "cell_type": "markdown",
   "metadata": {},
   "source": [
    "This creates a `class argo` which has various methods attached to it for visualization and QC. Example of plotting profiles:"
   ]
  },
  {
   "cell_type": "code",
   "execution_count": null,
   "metadata": {},
   "outputs": [],
   "source": [
    "w = interactive(flt.plot, kind=fixed('profiles'), \n",
    "                varlist=[('T and O2',['TEMP', 'DOXY']),\n",
    "                         ('Physics',['TEMP', 'PSAL', 'PDEN'])],\n",
    "                Ncycle=(1, flt.N_CYCLES), Nprof=(1, flt.N_CYCLES), zvar=['PRES', 'PDEN'])\n",
    "display(w)"
   ]
  },
  {
   "cell_type": "markdown",
   "metadata": {},
   "source": [
    "time section: "
   ]
  },
  {
   "cell_type": "code",
   "execution_count": null,
   "metadata": {},
   "outputs": [],
   "source": [
    "w = interactive(flt.plot, kind=fixed('cscatter'), varname=['TEMP','PSAL','DOXY'], ylim=fixed((0,500)))\n",
    "display(w)"
   ]
  },
  {
   "cell_type": "markdown",
   "metadata": {},
   "source": [
    "Can calculate oxygen gain using WOA or NCEP data as reference values:"
   ]
  },
  {
   "cell_type": "code",
   "execution_count": null,
   "metadata": {
    "tags": []
   },
   "outputs": [],
   "source": [
    "woa_gains  = flt.calc_gains(ref='WOA')\n",
    "ncep_gains = flt.calc_gains(ref='NCEP')\n",
    "\n",
    "print('WOA Gains:', woa_gains, '\\n')\n",
    "print('NCEP Gains: ', ncep_gains)"
   ]
  },
  {
   "cell_type": "markdown",
   "metadata": {},
   "source": [
    "Results can be plotted:"
   ]
  },
  {
   "cell_type": "code",
   "execution_count": null,
   "metadata": {},
   "outputs": [],
   "source": [
    "w = interactive(flt.plot, kind=fixed('gain'), ref=['WOA', 'NCEP'])\n",
    "display(w)"
   ]
  },
  {
   "cell_type": "markdown",
   "metadata": {},
   "source": [
    "The `argo` object allows for easy plotting and data access, but if you just want to load the data from the float for your own use, that can easily be done as well:"
   ]
  },
  {
   "cell_type": "code",
   "execution_count": null,
   "metadata": {},
   "outputs": [],
   "source": [
    "# get a python dictionary\n",
    "float_dict = flt.to_dict()\n",
    "# create a pandas dataframe\n",
    "float_df = flt.to_dataframe()\n",
    "print(float_df.head())"
   ]
  },
  {
   "cell_type": "markdown",
   "metadata": {},
   "source": [
    "Next steps:\n",
    "* More validation against SOCCOM matlab code\n",
    "* Validation against already DMQC'ed Argo floats\n",
    "* Right now works with Argo synthetic profiles (and BRtraj for in-air data) - will probably want to build individual profile functionality as well\n",
    "* Optode response time correction\n",
    "* Access data remotely - both reference and Argo data sets\n",
    "* Have it work well with BODC version of OWC code?"
   ]
  }
 ],
 "metadata": {
  "kernelspec": {
   "display_name": "Python 3",
   "language": "python",
   "name": "python3"
  },
  "language_info": {
   "codemirror_mode": {
    "name": "ipython",
    "version": 3
   },
   "file_extension": ".py",
   "mimetype": "text/x-python",
   "name": "python",
   "nbconvert_exporter": "python",
   "pygments_lexer": "ipython3",
   "version": "3.8.5-final"
  }
 },
 "nbformat": 4,
 "nbformat_minor": 4
}