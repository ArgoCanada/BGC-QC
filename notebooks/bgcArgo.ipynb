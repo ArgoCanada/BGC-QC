{
 "cells": [
  {
   "cell_type": "markdown",
   "metadata": {},
   "source": [
    "# BGC-Argo Quality Control"
   ]
  },
  {
   "cell_type": "markdown",
   "metadata": {},
   "source": [
    "This is a jupyter notebook to demonstrate the fucntionality of the `bgcArgo` python module, which is based on the SOCCOM set of matlab code for performing the same task. In order to perform these tasks, WOA, NCEP, and Argo data must be available. These must be downloaded to your local machine (which can be done using `bgcArgo`, shown below). Plan to add functionality to get the necessary data remotely."
   ]
  },
  {
   "cell_type": "code",
   "execution_count": 6,
   "metadata": {},
   "outputs": [],
   "source": [
    "%matplotlib inline\n",
    "from ipywidgets import interactive, fixed\n",
    "\n",
    "from pathlib import Path\n",
    "from bgcArgo import argo"
   ]
  },
  {
   "cell_type": "markdown",
   "metadata": {},
   "source": [
    "Set up appropriate local directories:"
   ]
  },
  {
   "cell_type": "code",
   "execution_count": 7,
   "metadata": {},
   "outputs": [],
   "source": [
    "datadir   = Path('/Users/gordonc/Documents/data')\n",
    "woa_path  = datadir / 'WOA18'\n",
    "ncep_path = datadir / 'NCEP'\n",
    "argo_path = datadir / 'Argo/meds'"
   ]
  },
  {
   "cell_type": "markdown",
   "metadata": {},
   "source": [
    "You can tell `bgcArgo` where your local directories are set up, or specify the path to each function:"
   ]
  },
  {
   "cell_type": "code",
   "execution_count": 8,
   "metadata": {},
   "outputs": [],
   "source": [
    "argo.set_dirs(woa_path=woa_path, ncep_path=ncep_path, argo_path=argo_path)"
   ]
  },
  {
   "cell_type": "markdown",
   "metadata": {},
   "source": [
    "If the data is not already saved to your local machine, you can use the module to download the reference data as well as Argo data:\n",
    "```python\n",
    "import bgcArgo\n",
    "\n",
    "# get the reference data\n",
    "bgcArgo.io.get_woa18('O2sat', local_path=woa_path)\n",
    "bgcArgo.io.get_ncep('pres', local_path=ncep_path)\n",
    "# get argo data for float 4902481, could provide more float numbers\n",
    "dacdir = '/ifremer/argo/dac/meds'\n",
    "wmo_numbers = [4902481]\n",
    "bgcArgo.io.get_argo(dac_path, wmo_numbers, local_path=argo_path)\n",
    "```\n",
    "With reference data downloaded, float data is easily loaded into an object that will have fields for each float variable:"
   ]
  },
  {
   "cell_type": "code",
   "execution_count": 9,
   "metadata": {},
   "outputs": [],
   "source": [
    "flt = argo(4902481)"
   ]
  },
  {
   "cell_type": "markdown",
   "metadata": {},
   "source": [
    "This creates a `class argo` which has various methods attached to it for visualization and QC. Example of plotting profiles:"
   ]
  },
  {
   "cell_type": "code",
   "execution_count": 10,
   "metadata": {},
   "outputs": [
    {
     "output_type": "display_data",
     "data": {
      "text/plain": "interactive(children=(Dropdown(description='varlist', options=(('Oxygen', ['DOXY']), ('Physics', ['TEMP', 'PSA…",
      "application/vnd.jupyter.widget-view+json": {
       "version_major": 2,
       "version_minor": 0,
       "model_id": "b5aab73408a943c183efc8ab7d580413"
      }
     },
     "metadata": {}
    }
   ],
   "source": [
    "w = interactive(flt.plot, kind=fixed('profiles'), \n",
    "                varlist=[('Oxygen',['DOXY']), \n",
    "                         ('Physics',['TEMP', 'PSAL', 'PDEN']), \n",
    "                         ('T and O2',['TEMP', 'DOXY'])],\n",
    "                Ncycle=(1, flt.N_CYCLES), Nprof=(1,10), zvar=['PRES', 'PDEN'], )\n",
    "display(w)"
   ]
  },
  {
   "cell_type": "markdown",
   "metadata": {},
   "source": [
    "time section: "
   ]
  },
  {
   "cell_type": "code",
   "execution_count": 11,
   "metadata": {},
   "outputs": [
    {
     "output_type": "display_data",
     "data": {
      "text/plain": "interactive(children=(Dropdown(description='varname', options=('TEMP', 'PSAL', 'DOXY'), value='TEMP'), Output(…",
      "application/vnd.jupyter.widget-view+json": {
       "version_major": 2,
       "version_minor": 0,
       "model_id": "0f0f3faec3654f8fbe15be0b3e6906e3"
      }
     },
     "metadata": {}
    }
   ],
   "source": [
    "w = interactive(flt.plot, kind=fixed('cscatter'), varname=['TEMP','PSAL','DOXY'], ylim=fixed((0,500)))\n",
    "display(w)"
   ]
  },
  {
   "cell_type": "markdown",
   "metadata": {},
   "source": [
    "Can calculate oxygen gain using WOA or NCEP data as reference values:"
   ]
  },
  {
   "cell_type": "code",
   "execution_count": 7,
   "metadata": {},
   "outputs": [
    {
     "output_type": "stream",
     "name": "stdout",
     "text": "Extracting WOA data for Jan\nExtracting WOA data for Feb\nExtracting WOA data for Mar\nExtracting WOA data for Apr\nExtracting WOA data for May\nExtracting WOA data for Jun\nExtracting WOA data for Jul\nExtracting WOA data for Aug\nExtracting WOA data for Sep\nExtracting WOA data for Oct\nExtracting WOA data for Nov\nExtracting WOA data for Dec\n\nCalculating gains using WOA surface data and float O2 percent saturation...\n\nCalculating gains using NCEP surface pressure and float in-air measurements...\nWOA Gains: [1.00838901 1.01652513 1.00907195 0.99278253 1.02729106 1.04765207\n 1.03841231 1.02583086 1.01263201 1.01799767 1.03774679 1.04289965\n 1.03957234 1.0372055  1.03833366 1.03583223 1.05015862 1.05643221\n 1.04423111 1.04552101 1.04590617 1.04163522 1.04344583 1.05341063\n 1.06035864 1.06319964 1.07458747 1.08092759 1.0820653  1.072926\n 1.05292626 1.07914297 1.08421562 1.06910948] \n\nNCEP Gains:  [1.22571727 1.24358498 1.19382785 1.24697541 1.29861159 1.28214657\n 1.2918855  1.26711397 1.28986839 1.3096431  1.32427438 1.31081396\n 1.2831572  1.33636183 1.32935951 1.33593427 1.34047186 1.36596943\n 1.30788556 1.31335212 1.34967329 1.36110314        nan        nan\n        nan        nan        nan        nan        nan        nan\n        nan        nan        nan]\n"
    }
   ],
   "source": [
    "woa_gains  = flt.calc_gains(ref='WOA')\n",
    "ncep_gains = flt.calc_gains(ref='NCEP')\n",
    "\n",
    "print('WOA Gains:', woa_gains, '\\n')\n",
    "print('NCEP Gains: ', ncep_gains)"
   ]
  },
  {
   "cell_type": "markdown",
   "metadata": {},
   "source": [
    "Results can be plotted:"
   ]
  },
  {
   "cell_type": "code",
   "execution_count": 12,
   "metadata": {},
   "outputs": [
    {
     "output_type": "display_data",
     "data": {
      "text/plain": "interactive(children=(Dropdown(description='ref', options=('WOA', 'NCEP'), value='WOA'), Output()), _dom_class…",
      "application/vnd.jupyter.widget-view+json": {
       "version_major": 2,
       "version_minor": 0,
       "model_id": "f4c73c51ac3c4a41883601baf2c63795"
      }
     },
     "metadata": {}
    }
   ],
   "source": [
    "w = interactive(flt.plot, kind=fixed('gain'), ref=['WOA', 'NCEP'])\n",
    "display(w)"
   ]
  },
  {
   "cell_type": "markdown",
   "metadata": {},
   "source": [
    "The `argo` object allows for easy plotting and data access, but if you just want to load the data from the float for your own use, that can easily be done as well:"
   ]
  },
  {
   "cell_type": "code",
   "execution_count": 9,
   "metadata": {},
   "outputs": [
    {
     "output_type": "stream",
     "name": "stdout",
     "text": "CYCLE            SDN   LATITUDE  LONGITUDE       PRES   TEMP       PSAL  \\\n0      1  737222.538194  56.531078 -52.702686  14.100000  5.162  34.610001   \n1      1  737222.538194  56.531078 -52.702686  24.200001  4.964  34.618999   \n2      1  737222.538194  56.531078 -52.702686  34.400002  4.827  34.625000   \n3      1  737222.538194  56.531078 -52.702686  44.299999  4.445  34.643002   \n4      1  737222.538194  56.531078 -52.702686  54.500000  4.190  34.659000   \n\n         DOXY       PDEN  \n0  328.017212  27.347168  \n1  327.952667  27.377563  \n2  327.086517  27.398193  \n3  325.447540  27.455078  \n4  322.789764  27.495239  \n"
    }
   ],
   "source": [
    "# get a python dictionary\n",
    "float_dict = flt.to_dict()\n",
    "# create a pandas dataframe\n",
    "float_df = flt.to_dataframe()\n",
    "print(float_df.head())"
   ]
  },
  {
   "cell_type": "code",
   "execution_count": null,
   "metadata": {},
   "outputs": [],
   "source": []
  }
 ],
 "metadata": {
  "kernelspec": {
   "display_name": "Python 3.7.4 32-bit",
   "language": "python",
   "name": "python37432bit2d31005b6b4f404cace8632519772ca1"
  },
  "language_info": {
   "codemirror_mode": {
    "name": "ipython",
    "version": 3
   },
   "file_extension": ".py",
   "mimetype": "text/x-python",
   "name": "python",
   "nbconvert_exporter": "python",
   "pygments_lexer": "ipython3",
   "version": "3.7.4-final"
  }
 },
 "nbformat": 4,
 "nbformat_minor": 4
}