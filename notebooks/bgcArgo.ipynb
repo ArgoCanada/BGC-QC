{
 "cells": [
  {
   "cell_type": "markdown",
   "metadata": {},
   "source": [
    "# BGC-Argo Quality Control"
   ]
  },
  {
   "cell_type": "markdown",
   "metadata": {},
   "source": [
    "This is a jupyter notebook to demonstrate the fucntionality of the `bgcArgo` python module, which is based on the SOCCOM set of matlab code for performing the same task. In order to perform these tasks, WOA, NCEP, and Argo data must be available. These must be downloaded to your local machine (which can be done using `bgcArgo`, shown below). Plan to add functionality to get the necessary data remotely."
   ]
  },
  {
   "cell_type": "code",
   "execution_count": 8,
   "metadata": {},
   "outputs": [],
   "source": [
    "%matplotlib notebook\n",
    "from ipywidgets import interactive, fixed\n",
    "\n",
    "from pathlib import Path\n",
    "from bgcArgo import argo"
   ]
  },
  {
   "cell_type": "markdown",
   "metadata": {},
   "source": [
    "Set up appropriate local directories:"
   ]
  },
  {
   "cell_type": "code",
   "execution_count": 12,
   "metadata": {},
   "outputs": [],
   "source": [
    "datadir   = Path('/Users/gordonc/Documents/data')\n",
    "woa_path  = datadir / 'WOA18'\n",
    "ncep_path = datadir / 'NCEP'\n",
    "argo_path = datadir / 'Argo/meds'"
   ]
  },
  {
   "cell_type": "markdown",
   "metadata": {},
   "source": [
    "You can tell `bgcArgo` where your local directories are set up, or specify the path to each function:"
   ]
  },
  {
   "cell_type": "code",
   "execution_count": null,
   "metadata": {},
   "outputs": [],
   "source": [
    "argo.set_dirs(woa_path=woa_path, ncep_path=ncep_path, argo_path=argo_path)"
   ]
  },
  {
   "cell_type": "markdown",
   "metadata": {},
   "source": [
    "If the data is not already saved to your local machine, you can use sagepy to download the reference data as well as Argo data:"
   ]
  },
  {
   "cell_type": "code",
   "execution_count": 10,
   "metadata": {},
   "outputs": [],
   "source": [
    "# get the reference data\n",
    "sagepy.io.get_woa18('O2sat', local_path=woa_path)\n",
    "sagepy.io.get_ncep('pres', local_path=ncep_path)\n",
    "# get argo data for float 4902481, could provide more float numbers\n",
    "dacdir = '/ifremer/argo/dac/meds'\n",
    "wmo_numbers = [4902481]\n",
    "sagepy.io.get_argo(dac_path, wmo_numbers, local_path=argo_path)"
   ]
  },
  {
   "cell_type": "markdown",
   "metadata": {},
   "source": [
    "With reference data downloaded, float data is easily loaded into an object that will have fields for each float variable:"
   ]
  },
  {
   "cell_type": "code",
   "execution_count": 13,
   "metadata": {},
   "outputs": [],
   "source": [
    "flt = argo(4902481)"
   ]
  },
  {
   "cell_type": "markdown",
   "metadata": {},
   "source": [
    "This creates a `class argo` which has various methods attached to it:"
   ]
  },
  {
   "cell_type": "code",
   "execution_count": 14,
   "metadata": {},
   "outputs": [],
   "source": [
    "woa_gains = flt.calc_gains(ref='WOA')\n",
    "fig, ax = flt.plot('gains')"
   ]
  },
  {
   "cell_type": "markdown",
   "metadata": {},
   "source": [
    "The `argo_float` object allows for easy plotting and data access, but if you just want to load the data from the float for your own use, that can easily be done as well:"
   ]
  },
  {
   "cell_type": "code",
   "execution_count": 15,
   "metadata": {},
   "outputs": [],
   "source": [
    "# get a python dictionary\n",
    "float_dict = flt.to_dict()\n",
    "# create a pandas dataframe\n",
    "float_df = flt.to_dataframe()"
   ]
  }
 ],
 "metadata": {
  "kernelspec": {
   "display_name": "Python 3",
   "language": "python",
   "name": "python3"
  },
  "language_info": {
   "codemirror_mode": {
    "name": "ipython",
    "version": 3
   },
   "file_extension": ".py",
   "mimetype": "text/x-python",
   "name": "python",
   "nbconvert_exporter": "python",
   "pygments_lexer": "ipython3",
   "version": "3.7.4"
  }
 },
 "nbformat": 4,
 "nbformat_minor": 4
}